{
 "cells": [
  {
   "cell_type": "markdown",
   "id": "cfe41607",
   "metadata": {},
   "source": [
    "#### **Part 0: Imports**"
   ]
  },
  {
   "cell_type": "code",
   "execution_count": 15,
   "id": "e6f85b12",
   "metadata": {},
   "outputs": [],
   "source": [
    "import numpy as np\n",
    "import pandas as pd\n",
    "import torch\n",
    "import torch.nn as nn\n",
    "\n",
    "from sklearn.preprocessing import StandardScaler\n",
    "from sklearn.model_selection import train_test_split\n",
    "from torch.utils.data import Dataset, DataLoader"
   ]
  },
  {
   "cell_type": "markdown",
   "id": "ff7e7b9c",
   "metadata": {},
   "source": [
    "#### **Part 1: Load CSVs**"
   ]
  },
  {
   "cell_type": "code",
   "execution_count": 16,
   "id": "f52e104a",
   "metadata": {},
   "outputs": [],
   "source": [
    "train_df = pd.read_csv(\"./data/train.csv\")\n",
    "test_df = pd.read_csv(\"./data/test.csv\")\n",
    "\n",
    "X_train = train_df.drop(columns=[\"Y1\", \"Y2\"]).values\n",
    "y_train = train_df[[\"Y1\", \"Y2\"]].values\n",
    "\n",
    "X_test = test_df.drop(columns=[\"id\"]).values\n",
    "test_ids = test_df[\"id\"].values\n",
    "\n",
    "scaler = StandardScaler()\n",
    "X_train = scaler.fit_transform(X_train)\n",
    "X_test = scaler.transform(X_test)"
   ]
  },
  {
   "cell_type": "code",
   "execution_count": 17,
   "id": "39650615",
   "metadata": {},
   "outputs": [],
   "source": [
    "def r2_score(y_true, y_pred):\n",
    "    ss_res = np.sum((y_true, y_pred) ** 2, axis=0)\n",
    "    ss_tot = np.sum((y_true - np.mean(y_true, axis=0)) ** 2, axis=0)\n",
    "    r2 = 1 - ss_res / ss_tot\n",
    "    return r2"
   ]
  },
  {
   "cell_type": "markdown",
   "id": "20bdff90",
   "metadata": {},
   "source": [
    "#### **Part 2: Dataset Classes**"
   ]
  },
  {
   "cell_type": "code",
   "execution_count": 18,
   "id": "9347aea0",
   "metadata": {},
   "outputs": [],
   "source": [
    "class DatasetXY(Dataset):\n",
    "    def __init__(self, X, y = None):\n",
    "        self.X = torch.tensor(X, dtype=torch.float32)\n",
    "        if y is not None:\n",
    "            self.y = torch.tensor(y, dtype=torch.float32)\n",
    "        else:\n",
    "            self.y = None\n",
    "            \n",
    "    def __len__(self):\n",
    "        return len(self.X)\n",
    "    \n",
    "    def __getitem__(self, idx):\n",
    "        if self.y is not None:\n",
    "            return self.X[idx], self.y[idx]\n",
    "        else:\n",
    "            return self.X[idx]"
   ]
  },
  {
   "cell_type": "code",
   "execution_count": 19,
   "id": "aad37488",
   "metadata": {},
   "outputs": [],
   "source": [
    "train_dataset = DatasetXY(X_train, y_train)\n",
    "test_dataset = DatasetXY(X_test)\n",
    "\n",
    "train_loader = DataLoader(train_dataset, batch_size=32, shuffle=True)\n",
    "test_loader = DataLoader(test_dataset, batch_size=32, shuffle=False)"
   ]
  },
  {
   "cell_type": "markdown",
   "id": "95ead342",
   "metadata": {},
   "source": [
    "#### **Part 3: Define RNN Model**"
   ]
  },
  {
   "cell_type": "code",
   "execution_count": 20,
   "id": "217a7785",
   "metadata": {},
   "outputs": [],
   "source": [
    "class RNNModel(nn.Module):\n",
    "    def __init__(self, input_dim, hidden_dim, output_dim, num_layers=1):\n",
    "        super(RNNModel, self).__init__()\n",
    "        self.rnn = nn.RNN(input_dim, hidden_dim, num_layers, batch_first=True)\n",
    "        self.fc = nn.Linear(hidden_dim, output_dim)\n",
    "    \n",
    "    def forward(self, x):\n",
    "        x = x.unsqueeze(1)\n",
    "        out, _ = self.rnn(x)\n",
    "        out = out[:, -1, :]\n",
    "        out = self.fc(out)\n",
    "        return out"
   ]
  },
  {
   "cell_type": "markdown",
   "id": "a3287aad",
   "metadata": {},
   "source": [
    "#### **Part 4: Train the model**"
   ]
  },
  {
   "cell_type": "code",
   "execution_count": 21,
   "id": "fe520818",
   "metadata": {},
   "outputs": [
    {
     "name": "stdout",
     "output_type": "stream",
     "text": [
      "Epoch 1/20, Train Loss: 0.3472\n",
      "Epoch 2/20, Train Loss: 0.2758\n",
      "Epoch 3/20, Train Loss: 0.2578\n",
      "Epoch 4/20, Train Loss: 0.2496\n",
      "Epoch 5/20, Train Loss: 0.2449\n",
      "Epoch 6/20, Train Loss: 0.2406\n",
      "Epoch 7/20, Train Loss: 0.2374\n",
      "Epoch 8/20, Train Loss: 0.2371\n",
      "Epoch 9/20, Train Loss: 0.2343\n",
      "Epoch 10/20, Train Loss: 0.2325\n",
      "Epoch 11/20, Train Loss: 0.2320\n",
      "Epoch 12/20, Train Loss: 0.2298\n",
      "Epoch 13/20, Train Loss: 0.2277\n",
      "Epoch 14/20, Train Loss: 0.2266\n",
      "Epoch 15/20, Train Loss: 0.2273\n",
      "Epoch 16/20, Train Loss: 0.2266\n",
      "Epoch 17/20, Train Loss: 0.2248\n",
      "Epoch 18/20, Train Loss: 0.2255\n",
      "Epoch 19/20, Train Loss: 0.2239\n",
      "Epoch 20/20, Train Loss: 0.2228\n"
     ]
    }
   ],
   "source": [
    "input_dim = X_train.shape[1]\n",
    "hidden_dim = 32\n",
    "output_dim = 2\n",
    "\n",
    "model = RNNModel(input_dim, hidden_dim, output_dim)\n",
    "criterion = nn.MSELoss()\n",
    "optimizer = torch.optim.Adam(model.parameters(), lr=0.001)\n",
    "\n",
    "epochs = 20\n",
    "for epoch in range(epochs):\n",
    "    model.train()\n",
    "    train_loss = 0\n",
    "    for xb, yb in train_loader:\n",
    "        optimizer.zero_grad()\n",
    "        pred = model(xb)\n",
    "        loss = criterion(pred, yb)\n",
    "        loss.backward()\n",
    "        optimizer.step()\n",
    "        train_loss += loss.item()\n",
    "        \n",
    "    print(f\"Epoch {epoch+1}/{epochs}, Train Loss: {train_loss/len(train_loader):.4f}\")"
   ]
  },
  {
   "cell_type": "markdown",
   "id": "db125226",
   "metadata": {},
   "source": [
    "#### **Part 5: Make predictions on test set**"
   ]
  },
  {
   "cell_type": "code",
   "execution_count": 22,
   "id": "3cedf0fb",
   "metadata": {},
   "outputs": [],
   "source": [
    "model.eval()\n",
    "predictions = []\n",
    "with torch.no_grad():\n",
    "    for xb in test_loader:\n",
    "        pred = model(xb)\n",
    "        predictions.append(pred.numpy())\n",
    "\n",
    "predictions = np.vstack(predictions)"
   ]
  },
  {
   "cell_type": "markdown",
   "id": "89f409a1",
   "metadata": {},
   "source": [
    "#### **Part 6: Create submission**"
   ]
  },
  {
   "cell_type": "code",
   "execution_count": 23,
   "id": "dfeb08c6",
   "metadata": {},
   "outputs": [],
   "source": [
    "submission = pd.DataFrame({\n",
    "    \"id\": test_ids,\n",
    "    \"Y1\": predictions[:, 0],\n",
    "    \"Y2\": predictions[:, 1]\n",
    "})\n",
    "submission.to_csv(\"submission.csv\", index=False)"
   ]
  }
 ],
 "metadata": {
  "kernelspec": {
   "display_name": "Python 3",
   "language": "python",
   "name": "python3"
  },
  "language_info": {
   "codemirror_mode": {
    "name": "ipython",
    "version": 3
   },
   "file_extension": ".py",
   "mimetype": "text/x-python",
   "name": "python",
   "nbconvert_exporter": "python",
   "pygments_lexer": "ipython3",
   "version": "3.12.3"
  }
 },
 "nbformat": 4,
 "nbformat_minor": 5
}
